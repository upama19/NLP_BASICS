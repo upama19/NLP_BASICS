{
 "cells": [
  {
   "cell_type": "code",
   "execution_count": 1,
   "id": "b9c17e56",
   "metadata": {},
   "outputs": [],
   "source": [
    "import spacy"
   ]
  },
  {
   "cell_type": "code",
   "execution_count": 2,
   "id": "b5c66d5a",
   "metadata": {},
   "outputs": [
    {
     "name": "stdout",
     "output_type": "stream",
     "text": [
      "Scientists\n",
      "and\n",
      "Dr.\n",
      "have\n",
      "discovered\n",
      "a\n",
      "new\n",
      "species\n",
      "of\n",
      "bird\n",
      "in\n",
      "the\n",
      "Amazon\n",
      "rainforest\n",
      ".\n",
      "The\n",
      "bird\n",
      "has\n",
      "bright\n",
      "blue\n",
      "feathers\n",
      "and\n",
      "a\n",
      "distinctive\n",
      "call\n",
      "that\n",
      "has\n",
      "not\n",
      "been\n",
      "heard\n",
      "before\n",
      ".\n",
      "The\n",
      "researchers\n",
      "are\n",
      "excited\n",
      "to\n",
      "study\n",
      "the\n",
      "behavior\n",
      "and\n",
      "ecology\n",
      "of\n",
      "this\n",
      "new\n",
      "species\n",
      ".\n"
     ]
    }
   ],
   "source": [
    "nlp = spacy.blank(\"en\")\n",
    "\n",
    "doc = nlp(\"Scientists and Dr. have discovered a new species of bird in the Amazon rainforest. The bird has bright blue feathers and a distinctive call that has not been heard before. The researchers are excited to study the behavior and ecology of this new species.\")\n",
    "\n",
    "for token in doc:\n",
    "    print(token)"
   ]
  },
  {
   "cell_type": "code",
   "execution_count": 4,
   "id": "e6cf9fcc",
   "metadata": {},
   "outputs": [
    {
     "data": {
      "text/plain": [
       "[]"
      ]
     },
     "execution_count": 4,
     "metadata": {},
     "output_type": "execute_result"
    }
   ],
   "source": [
    "nlp.pipe_names"
   ]
  },
  {
   "cell_type": "code",
   "execution_count": 5,
   "id": "b0853e2e",
   "metadata": {},
   "outputs": [],
   "source": [
    "nlp = spacy.load(\"en_core_web_sm\")"
   ]
  },
  {
   "cell_type": "code",
   "execution_count": 7,
   "id": "b54b2806",
   "metadata": {},
   "outputs": [
    {
     "data": {
      "text/plain": [
       "[('tok2vec', <spacy.pipeline.tok2vec.Tok2Vec at 0x1a9d16db220>),\n",
       " ('tagger', <spacy.pipeline.tagger.Tagger at 0x1a9d16db6a0>),\n",
       " ('parser', <spacy.pipeline.dep_parser.DependencyParser at 0x1a9d13a7060>),\n",
       " ('attribute_ruler',\n",
       "  <spacy.pipeline.attributeruler.AttributeRuler at 0x1a9d18466c0>),\n",
       " ('lemmatizer', <spacy.lang.en.lemmatizer.EnglishLemmatizer at 0x1a9d133a140>),\n",
       " ('ner', <spacy.pipeline.ner.EntityRecognizer at 0x1a9d13a7ae0>)]"
      ]
     },
     "execution_count": 7,
     "metadata": {},
     "output_type": "execute_result"
    }
   ],
   "source": [
    "nlp.pipeline"
   ]
  },
  {
   "cell_type": "code",
   "execution_count": 8,
   "id": "9ac98521",
   "metadata": {},
   "outputs": [
    {
     "name": "stdout",
     "output_type": "stream",
     "text": [
      "Scientists  |  NOUN  |  scientist\n",
      "and  |  CCONJ  |  and\n",
      "Dr.  |  PROPN  |  Dr.\n",
      "have  |  AUX  |  have\n",
      "discovered  |  VERB  |  discover\n",
      "a  |  DET  |  a\n",
      "new  |  ADJ  |  new\n",
      "species  |  NOUN  |  specie\n",
      "of  |  ADP  |  of\n",
      "bird  |  NOUN  |  bird\n",
      "in  |  ADP  |  in\n",
      "the  |  DET  |  the\n",
      "Amazon  |  PROPN  |  Amazon\n",
      "rainforest  |  NOUN  |  rainforest\n",
      ".  |  PUNCT  |  .\n",
      "The  |  DET  |  the\n",
      "bird  |  NOUN  |  bird\n",
      "has  |  VERB  |  have\n",
      "bright  |  ADJ  |  bright\n",
      "blue  |  ADJ  |  blue\n",
      "feathers  |  NOUN  |  feather\n",
      "and  |  CCONJ  |  and\n",
      "a  |  DET  |  a\n",
      "distinctive  |  ADJ  |  distinctive\n",
      "call  |  NOUN  |  call\n",
      "that  |  PRON  |  that\n",
      "has  |  AUX  |  have\n",
      "not  |  PART  |  not\n",
      "been  |  AUX  |  be\n",
      "heard  |  VERB  |  hear\n",
      "before  |  ADV  |  before\n",
      ".  |  PUNCT  |  .\n",
      "The  |  DET  |  the\n",
      "researchers  |  NOUN  |  researcher\n",
      "are  |  AUX  |  be\n",
      "excited  |  ADJ  |  excited\n",
      "to  |  PART  |  to\n",
      "study  |  VERB  |  study\n",
      "the  |  DET  |  the\n",
      "behavior  |  NOUN  |  behavior\n",
      "and  |  CCONJ  |  and\n",
      "ecology  |  NOUN  |  ecology\n",
      "of  |  ADP  |  of\n",
      "this  |  DET  |  this\n",
      "new  |  ADJ  |  new\n",
      "species  |  NOUN  |  specie\n",
      ".  |  PUNCT  |  .\n"
     ]
    }
   ],
   "source": [
    "\n",
    "doc = nlp(\"Scientists and Dr. have discovered a new species of bird in the Amazon rainforest. The bird has bright blue feathers and a distinctive call that has not been heard before. The researchers are excited to study the behavior and ecology of this new species.\")\n",
    "\n",
    "for token in doc:\n",
    "    print(token, \" | \", token.pos_, \" | \", token.lemma_)"
   ]
  },
  {
   "cell_type": "code",
   "execution_count": 16,
   "id": "53bcd00f",
   "metadata": {},
   "outputs": [
    {
     "name": "stdout",
     "output_type": "stream",
     "text": [
      "Tesla Inc  |  ORG  |  Companies, agencies, institutions, etc.\n",
      "$45 billion  |  MONEY  |  Monetary values, including unit\n"
     ]
    }
   ],
   "source": [
    "doc = nlp(\"Tesla Inc is going to acquire twitter for $45 billion\")\n",
    "for ent in doc.ents:\n",
    "    print(ent.text,\" | \", ent.label_, \" | \", spacy.explain(ent.label_))"
   ]
  },
  {
   "cell_type": "code",
   "execution_count": 17,
   "id": "318ba2e0",
   "metadata": {},
   "outputs": [
    {
     "data": {
      "text/html": [
       "<span class=\"tex2jax_ignore\"><div class=\"entities\" style=\"line-height: 2.5; direction: ltr\">\n",
       "<mark class=\"entity\" style=\"background: #7aecec; padding: 0.45em 0.6em; margin: 0 0.25em; line-height: 1; border-radius: 0.35em;\">\n",
       "    Tesla Inc\n",
       "    <span style=\"font-size: 0.8em; font-weight: bold; line-height: 1; border-radius: 0.35em; vertical-align: middle; margin-left: 0.5rem\">ORG</span>\n",
       "</mark>\n",
       " is going to acquire twitter for \n",
       "<mark class=\"entity\" style=\"background: #e4e7d2; padding: 0.45em 0.6em; margin: 0 0.25em; line-height: 1; border-radius: 0.35em;\">\n",
       "    $45 billion\n",
       "    <span style=\"font-size: 0.8em; font-weight: bold; line-height: 1; border-radius: 0.35em; vertical-align: middle; margin-left: 0.5rem\">MONEY</span>\n",
       "</mark>\n",
       "</div></span>"
      ],
      "text/plain": [
       "<IPython.core.display.HTML object>"
      ]
     },
     "metadata": {},
     "output_type": "display_data"
    }
   ],
   "source": [
    "from spacy import displacy\n",
    "displacy.render(doc, style=\"ent\")"
   ]
  },
  {
   "cell_type": "code",
   "execution_count": null,
   "id": "4290752f",
   "metadata": {},
   "outputs": [],
   "source": []
  }
 ],
 "metadata": {
  "kernelspec": {
   "display_name": "NLP",
   "language": "python",
   "name": "nlp"
  },
  "language_info": {
   "codemirror_mode": {
    "name": "ipython",
    "version": 3
   },
   "file_extension": ".py",
   "mimetype": "text/x-python",
   "name": "python",
   "nbconvert_exporter": "python",
   "pygments_lexer": "ipython3",
   "version": "3.10.11"
  }
 },
 "nbformat": 4,
 "nbformat_minor": 5
}
