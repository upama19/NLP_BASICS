{
 "cells": [
  {
   "cell_type": "code",
   "execution_count": 1,
   "id": "1095b140",
   "metadata": {},
   "outputs": [],
   "source": [
    " import spacy"
   ]
  },
  {
   "cell_type": "code",
   "execution_count": 10,
   "id": "583c66e0",
   "metadata": {},
   "outputs": [
    {
     "name": "stdout",
     "output_type": "stream",
     "text": [
      "\"\n",
      "Let\n",
      "'s\n",
      "go\n",
      "to\n",
      "N.Y.\n",
      "!\n",
      "\"\n"
     ]
    }
   ],
   "source": [
    "doc = nlp('''\"Let's go to N.Y.!\"''')\n",
    "for token in doc:\n",
    "    print(token)"
   ]
  },
  {
   "cell_type": "code",
   "execution_count": 7,
   "id": "327e6afd",
   "metadata": {},
   "outputs": [
    {
     "name": "stdout",
     "output_type": "stream",
     "text": [
      "Scientists\n",
      "and\n",
      "Dr.\n",
      "have\n",
      "discovered\n",
      "a\n",
      "new\n",
      "species\n",
      "of\n",
      "bird\n",
      "in\n",
      "the\n",
      "Amazon\n",
      "rainforest\n",
      ".\n",
      "The\n",
      "bird\n",
      "has\n",
      "bright\n",
      "blue\n",
      "feathers\n",
      "and\n",
      "a\n",
      "distinctive\n",
      "call\n",
      "that\n",
      "has\n",
      "not\n",
      "been\n",
      "heard\n",
      "before\n",
      ".\n",
      "The\n",
      "researchers\n",
      "are\n",
      "excited\n",
      "to\n",
      "study\n",
      "the\n",
      "behavior\n",
      "and\n",
      "ecology\n",
      "of\n",
      "this\n",
      "new\n",
      "species\n",
      ".\n"
     ]
    }
   ],
   "source": [
    "nlp = spacy.blank(\"en\")\n",
    "\n",
    "doc = nlp(\"Scientists and Dr. have discovered a new species of bird in the Amazon rainforest. The bird has bright blue feathers and a distinctive call that has not been heard before. The researchers are excited to study the behavior and ecology of this new species.\")\n",
    "\n",
    "for token in doc:\n",
    "    print(token)"
   ]
  },
  {
   "cell_type": "code",
   "execution_count": 11,
   "id": "d02f317a",
   "metadata": {},
   "outputs": [
    {
     "data": {
      "text/plain": [
       "spacy.lang.en.English"
      ]
     },
     "execution_count": 11,
     "metadata": {},
     "output_type": "execute_result"
    }
   ],
   "source": [
    "type(nlp)"
   ]
  },
  {
   "cell_type": "code",
   "execution_count": 12,
   "id": "9d8c05ac",
   "metadata": {},
   "outputs": [
    {
     "data": {
      "text/plain": [
       "spacy.tokens.doc.Doc"
      ]
     },
     "execution_count": 12,
     "metadata": {},
     "output_type": "execute_result"
    }
   ],
   "source": [
    "type(doc)"
   ]
  },
  {
   "cell_type": "code",
   "execution_count": 13,
   "id": "bc17dea3",
   "metadata": {},
   "outputs": [
    {
     "data": {
      "text/plain": [
       "spacy.tokens.token.Token"
      ]
     },
     "execution_count": 13,
     "metadata": {},
     "output_type": "execute_result"
    }
   ],
   "source": [
    "type(token)"
   ]
  },
  {
   "cell_type": "code",
   "execution_count": 14,
   "id": "4ec2695e",
   "metadata": {},
   "outputs": [],
   "source": [
    "span = doc[1:6]\n"
   ]
  },
  {
   "cell_type": "code",
   "execution_count": null,
   "id": "372d9e58",
   "metadata": {},
   "outputs": [],
   "source": []
  }
 ],
 "metadata": {
  "kernelspec": {
   "display_name": "NLP",
   "language": "python",
   "name": "nlp"
  },
  "language_info": {
   "codemirror_mode": {
    "name": "ipython",
    "version": 3
   },
   "file_extension": ".py",
   "mimetype": "text/x-python",
   "name": "python",
   "nbconvert_exporter": "python",
   "pygments_lexer": "ipython3",
   "version": "3.10.11"
  }
 },
 "nbformat": 4,
 "nbformat_minor": 5
}
