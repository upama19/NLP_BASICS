{
 "cells": [
  {
   "cell_type": "code",
   "execution_count": 1,
   "id": "3e915880",
   "metadata": {},
   "outputs": [],
   "source": [
    "import re"
   ]
  },
  {
   "cell_type": "code",
   "execution_count": 30,
   "id": "b9227557",
   "metadata": {},
   "outputs": [],
   "source": [
    "chat1 = 'upama: you ask lot of questions 1234567890 , abc@xyz.com, 9861283820'\n",
    "chat2 = 'upama: here it is: (123)-456-7890, qwe@rty.com'\n",
    "chat3 = 'upama: yes, phone: 1234567890 email: qwe@rty.io'"
   ]
  },
  {
   "cell_type": "code",
   "execution_count": 49,
   "id": "1ea6637d",
   "metadata": {},
   "outputs": [
    {
     "data": {
      "text/plain": [
       "['1234567890 ']"
      ]
     },
     "execution_count": 49,
     "metadata": {},
     "output_type": "execute_result"
    }
   ],
   "source": [
    "pattern = '\\d{10} | \\(\\d{3}\\)-\\d{3}-\\d{4}'\n",
    "matches = re.findall(pattern, chat1)\n",
    "matches"
   ]
  },
  {
   "cell_type": "code",
   "execution_count": 48,
   "id": "20334397",
   "metadata": {},
   "outputs": [
    {
     "data": {
      "text/plain": [
       "['def@xyz.com']"
      ]
     },
     "execution_count": 48,
     "metadata": {},
     "output_type": "execute_result"
    }
   ],
   "source": [
    "pattern1 = '[a-z0-9A-Z_]*@[a-z0-9A-Z]*\\.[a-zA-Z]*'\n",
    "match = re.findall(pattern1, chat2)\n",
    "match"
   ]
  },
  {
   "cell_type": "code",
   "execution_count": 51,
   "id": "862e9603",
   "metadata": {},
   "outputs": [],
   "source": [
    "chat4 = 'upama: Hello, I am having an issue with my order # 412889912'\n",
    "chat5 = 'upama: I have a problem with my order number 412889912'\n",
    "chat6 = 'upama: My order 412889912 is having an issue, I was charged 300$ when online it says 280$'"
   ]
  },
  {
   "cell_type": "code",
   "execution_count": 55,
   "id": "8e638602",
   "metadata": {},
   "outputs": [
    {
     "data": {
      "text/plain": [
       "['412889912']"
      ]
     },
     "execution_count": 55,
     "metadata": {},
     "output_type": "execute_result"
    }
   ],
   "source": [
    "pattern2 = 'order[^\\d]*(\\d*)'\n",
    "match2 = re.findall(pattern2, chat6)\n",
    "match2"
   ]
  },
  {
   "cell_type": "code",
   "execution_count": 70,
   "id": "ad872562",
   "metadata": {},
   "outputs": [],
   "source": [
    "#Information Extraction\n",
    "text = '''Musk in 2018\n",
    "Born\tElon Reeve Musk\n",
    "June 28, 1971 (age 51)\n",
    "Pretoria, Transvaal, South Africa\n",
    "Education\tUniversity of Pennsylvania (BA, BS)\n",
    "Title\t\n",
    "Founder, CEO and chief engineer of SpaceX\n",
    "CEO and product architect of Tesla, Inc.\n",
    "CEO of Twitter\n",
    "Founder and CEO of X Corp. and X.AI\n",
    "President of the Musk Foundation\n",
    "Founder of the Boring Company\n",
    "Co-founder of Neuralink, OpenAI, Zip2 and X.com (part of PayPal)\n",
    "Spouses\t\n",
    "Justine Wilson\n",
    "​\n",
    "​(m. 2000; div. 2008)​\n",
    "Talulah Riley\n",
    "​\n",
    "​(m. 2010; div. 2012)​\n",
    "​\n",
    "​(m. 2013; div. 2016)​\n",
    "Partner\tGrimes (2018–2021)[1]\n",
    "Children\t10[a][3]\n",
    "Parents\t\n",
    "Errol Musk (father)\n",
    "Maye Musk (mother)\n",
    "Family\tMusk family\n",
    "Awards\tList of honors and awards\n",
    "Knight of the Order of Defence Merit (Cavaleiro) (Brazil)\n",
    "Signature\n",
    "Elon Musk Signature.svg'''\n"
   ]
  },
  {
   "cell_type": "code",
   "execution_count": 73,
   "id": "9982498c",
   "metadata": {},
   "outputs": [],
   "source": [
    "text2 = '''Ambani in 2007\n",
    "Born\tMukesh Dhirubhai Ambani\n",
    "19 April 1957 (age 66)\n",
    "Aden, Colony of Aden\n",
    "(present-day Yemen)[1][2]\n",
    "Nationality\tIndian\n",
    "Alma mater\t\n",
    "St. Xavier's College, Mumbai\n",
    "Institute of Chemical Technology (B.E.)\n",
    "Occupation(s)\tChairman and MD, Reliance Industries\n",
    "Spouse\tNita Ambani ​(m. 1985)​[3]\n",
    "Children\t3\n",
    "Parent\t\n",
    "Dhirubhai Ambani (father)\n",
    "Relatives\tAnil Ambani (brother)\n",
    "Tina Ambani (sister-in-law)'''"
   ]
  },
  {
   "cell_type": "code",
   "execution_count": 59,
   "id": "faf3dbc0",
   "metadata": {},
   "outputs": [
    {
     "data": {
      "text/plain": [
       "['51']"
      ]
     },
     "execution_count": 59,
     "metadata": {},
     "output_type": "execute_result"
    }
   ],
   "source": [
    "pattern3 = 'age (\\d+)'\n",
    "match3 = re.findall(pattern3, text)\n",
    "match3"
   ]
  },
  {
   "cell_type": "code",
   "execution_count": 61,
   "id": "5215fede",
   "metadata": {},
   "outputs": [
    {
     "data": {
      "text/plain": [
       "'Elon Reeve Musk'"
      ]
     },
     "execution_count": 61,
     "metadata": {},
     "output_type": "execute_result"
    }
   ],
   "source": [
    "pattern4 = 'Born(.*)\\n'\n",
    "match4 = re.findall(pattern4, text)\n",
    "match4[0].strip()"
   ]
  },
  {
   "cell_type": "code",
   "execution_count": 64,
   "id": "13b6297a",
   "metadata": {},
   "outputs": [
    {
     "data": {
      "text/plain": [
       "['June 28, 1971 ']"
      ]
     },
     "execution_count": 64,
     "metadata": {},
     "output_type": "execute_result"
    }
   ],
   "source": [
    "pattern5 = 'Born.*\\n(.*)\\(age'\n",
    "match5 = re.findall(pattern5, text)\n",
    "match5"
   ]
  },
  {
   "cell_type": "code",
   "execution_count": 65,
   "id": "97be012a",
   "metadata": {},
   "outputs": [
    {
     "data": {
      "text/plain": [
       "['Pretoria, Transvaal, South Africa']"
      ]
     },
     "execution_count": 65,
     "metadata": {},
     "output_type": "execute_result"
    }
   ],
   "source": [
    "pattern6 = '\\(age.*\\n(.*)'\n",
    "match6 = re.findall(pattern6, text)\n",
    "match6"
   ]
  },
  {
   "cell_type": "code",
   "execution_count": 66,
   "id": "467c0df9",
   "metadata": {},
   "outputs": [],
   "source": [
    "def get_pattern_match(pattern, text):\n",
    "    matches = re.findall(pattern, text)\n",
    "    if matches:\n",
    "        return matches[0]\n",
    "        "
   ]
  },
  {
   "cell_type": "code",
   "execution_count": 67,
   "id": "3df40193",
   "metadata": {},
   "outputs": [
    {
     "data": {
      "text/plain": [
       "'51'"
      ]
     },
     "execution_count": 67,
     "metadata": {},
     "output_type": "execute_result"
    }
   ],
   "source": [
    "get_pattern_match(pattern3, text)"
   ]
  },
  {
   "cell_type": "code",
   "execution_count": 77,
   "id": "636924cd",
   "metadata": {},
   "outputs": [],
   "source": [
    "def get_personal_information(text2):\n",
    "    age = get_pattern_match('age (\\d+)', text2)\n",
    "    full_name = get_pattern_match('Born(.*)\\n', text2)\n",
    "    birth_date = get_pattern_match ('Born.*\\n(.*)\\(age', text2)\n",
    "    birth_place = get_pattern_match('\\(age.*\\n(.*)', text2)\n",
    "    \n",
    "    return {\n",
    "        'age': int (age),\n",
    "        'name' : full_name.strip(),\n",
    "        'birth_date': birth_date.strip(),\n",
    "        'birth_place': birth_place.strip()\n",
    "    }"
   ]
  },
  {
   "cell_type": "code",
   "execution_count": 78,
   "id": "6d73155d",
   "metadata": {},
   "outputs": [
    {
     "data": {
      "text/plain": [
       "{'age': 66,\n",
       " 'name': 'Mukesh Dhirubhai Ambani',\n",
       " 'birth_date': '19 April 1957',\n",
       " 'birth_place': 'Aden, Colony of Aden'}"
      ]
     },
     "execution_count": 78,
     "metadata": {},
     "output_type": "execute_result"
    }
   ],
   "source": [
    "get_personal_information(text2)"
   ]
  },
  {
   "cell_type": "code",
   "execution_count": null,
   "id": "b773e066",
   "metadata": {},
   "outputs": [],
   "source": []
  }
 ],
 "metadata": {
  "kernelspec": {
   "display_name": "NLP",
   "language": "python",
   "name": "nlp"
  },
  "language_info": {
   "codemirror_mode": {
    "name": "ipython",
    "version": 3
   },
   "file_extension": ".py",
   "mimetype": "text/x-python",
   "name": "python",
   "nbconvert_exporter": "python",
   "pygments_lexer": "ipython3",
   "version": "3.10.11"
  }
 },
 "nbformat": 4,
 "nbformat_minor": 5
}
